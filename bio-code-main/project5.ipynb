{
 "cells": [
  {
   "cell_type": "markdown",
   "id": "interested-tenant",
   "metadata": {},
   "source": [
    "## Translate SQL queries to Mongo's query language"
   ]
  },
  {
   "cell_type": "markdown",
   "id": "alternate-bunny",
   "metadata": {},
   "source": [
    "#### select count(*) from products;"
   ]
  },
  {
   "cell_type": "code",
   "execution_count": 1,
   "id": "rural-packaging",
   "metadata": {},
   "outputs": [
    {
     "name": "stdout",
     "output_type": "stream",
     "text": [
      "309370\n"
     ]
    }
   ],
   "source": [
    "!mongo open_food --quiet --eval 'db.products.find({}).count()'"
   ]
  },
  {
   "cell_type": "markdown",
   "id": "ideal-worry",
   "metadata": {},
   "source": [
    "#### select _id, product_name from products where categories = 'Snacks, Sweet snacks, Confectioneries, Candies, Chews';"
   ]
  },
  {
   "cell_type": "code",
   "execution_count": 2,
   "id": "invalid-trainer",
   "metadata": {},
   "outputs": [
    {
     "name": "stdout",
     "output_type": "stream",
     "text": [
      "{ \"_id\" : \"0071720007105\", \"product_name\" : \"Tootsie Roll\" }\n"
     ]
    }
   ],
   "source": [
    "!mongo open_food --quiet --eval 'db.products.find({categories : \"Snacks, Sweet snacks, Confectioneries, Candies, Chews\"}, {_id:1, product_name:1}).pretty()'"
   ]
  },
  {
   "cell_type": "markdown",
   "id": "interesting-experience",
   "metadata": {},
   "source": [
    "#### select _id, code, product_name from products where last_modified_t >= 1601856000;"
   ]
  },
  {
   "cell_type": "code",
   "execution_count": 3,
   "id": "limiting-anthropology",
   "metadata": {},
   "outputs": [
    {
     "name": "stdout",
     "output_type": "stream",
     "text": [
      "{\n",
      "\t\"_id\" : \"0852909003299\",\n",
      "\t\"product_name\" : \"Almondmilk\",\n",
      "\t\"code\" : \"0852909003299\"\n",
      "}\n",
      "{\n",
      "\t\"_id\" : \"0840423102055\",\n",
      "\t\"code\" : \"0840423102055\",\n",
      "\t\"product_name\" : \"Garlic wine pasta with chicken meatballs with whole wheat rotini, white beans, and greens, cooked in avocado oil, and topped with parmesan and mozzarella, garlic wine pasta with chicken meatballs\"\n",
      "}\n"
     ]
    }
   ],
   "source": [
    "!mongo open_food --quiet --eval 'db.products.find({last_modified_t : {$gte : 1601856000}}, {_id:1, code:1, product_name:1}).pretty()'"
   ]
  },
  {
   "cell_type": "markdown",
   "id": "veterinary-wound",
   "metadata": {},
   "source": [
    "#### select count(*) from products where packaging = 'Plastic';"
   ]
  },
  {
   "cell_type": "code",
   "execution_count": 4,
   "id": "sapphire-feeling",
   "metadata": {},
   "outputs": [
    {
     "name": "stdout",
     "output_type": "stream",
     "text": [
      "115\n"
     ]
    }
   ],
   "source": [
    "!mongo open_food --quiet --eval 'db.products.find({packaging : \"Plastic\"}).count()'"
   ]
  },
  {
   "cell_type": "markdown",
   "id": "peaceful-watershed",
   "metadata": {},
   "source": [
    "#### select _id, code, creator, product_name, brands from products where manufacturing_places = 'Austin, TX' and stores = 'Whole Foods';"
   ]
  },
  {
   "cell_type": "code",
   "execution_count": 5,
   "id": "reduced-suite",
   "metadata": {},
   "outputs": [
    {
     "name": "stdout",
     "output_type": "stream",
     "text": [
      "{\n",
      "\t\"_id\" : \"0099482455859\",\n",
      "\t\"creator\" : \"usda-ndb-import\",\n",
      "\t\"brands\" : \"365 Everyday Value,Whole Foods Market  Inc.\",\n",
      "\t\"code\" : \"0099482455859\",\n",
      "\t\"product_name\" : \"Whole Wheat Bread\"\n",
      "}\n"
     ]
    }
   ],
   "source": [
    "!mongo open_food --quiet --eval 'db.products.find({manufacturing_places:\"Austin, TX\",  stores:\"Whole Foods\"}, {_id:1, code:1, creator:1, product_name:1, brands:1}).pretty()'"
   ]
  },
  {
   "cell_type": "markdown",
   "id": "reported-conference",
   "metadata": {},
   "source": [
    "#### select _id, creator, product_name, brands from products where brands = 'Trader Joes' and product_name is not null order by product_name;\n"
   ]
  },
  {
   "cell_type": "code",
   "execution_count": 6,
   "id": "common-making",
   "metadata": {},
   "outputs": [
    {
     "name": "stdout",
     "output_type": "stream",
     "text": [
      "{\n",
      "\t\"_id\" : \"00547352\",\n",
      "\t\"product_name\" : \"Organic roasted vegetable pizza\",\n",
      "\t\"creator\" : \"djfkzz\",\n",
      "\t\"brands\" : \"Trader Joes\"\n",
      "}\n",
      "{\n",
      "\t\"_id\" : \"00556903\",\n",
      "\t\"brands\" : \"Trader Joes\",\n",
      "\t\"creator\" : \"djfkzz\",\n",
      "\t\"product_name\" : \"Thai Sweet Chili Veggie Burger\"\n",
      "}\n",
      "{\n",
      "\t\"_id\" : \"00508285\",\n",
      "\t\"product_name\" : \"Trader joes, sriracha sauce\",\n",
      "\t\"brands\" : \"Trader Joes\",\n",
      "\t\"creator\" : \"usda-ndb-import\"\n",
      "}\n"
     ]
    }
   ],
   "source": [
    "!mongo open_food --quiet --eval 'db.products.find({brands: \"Trader Joes\", product_name:{$ne:null}}, {_id:1, creator:1, product_name:1, brands:1}).sort({product_name:1}).pretty()'"
   ]
  },
  {
   "cell_type": "markdown",
   "id": "mounted-atmosphere",
   "metadata": {},
   "source": [
    "#### select _id, product_name, brands from products where brands in (\"m&m's\", \"mars\", \"Mars\", \"oreo\", \"starburst\") order by product_name limit 5;"
   ]
  },
  {
   "cell_type": "code",
   "execution_count": 7,
   "id": "sharing-arizona",
   "metadata": {},
   "outputs": [
    {
     "name": "stdout",
     "output_type": "stream",
     "text": [
      "{\n",
      "\t\"_id\" : \"0040000265252\",\n",
      "\t\"brands\" : \"Mars\",\n",
      "\t\"product_name\" : \"Almond & dark chocolate\"\n",
      "}\n",
      "{ \"_id\" : \"0040000422068\", \"brands\" : \"mars\", \"product_name\" : \"BAR\" }\n",
      "{\n",
      "\t\"_id\" : \"0047677386518\",\n",
      "\t\"brands\" : \"m&m's\",\n",
      "\t\"product_name\" : \"M&m's, light ice cream, chocolate\"\n",
      "}\n",
      "{\n",
      "\t\"_id\" : \"0044000029524\",\n",
      "\t\"product_name\" : \"Nabisco oreo cookies double stuf 1x4.1 oz\",\n",
      "\t\"brands\" : \"oreo\"\n",
      "}\n",
      "{\n",
      "\t\"_id\" : \"04005108\",\n",
      "\t\"product_name\" : \"Real fruit juice!\",\n",
      "\t\"brands\" : \"starburst\"\n",
      "}\n"
     ]
    }
   ],
   "source": [
    "!mongo open_food --quiet --eval 'db.products.find({brands: {$in: [\"m&m\\u0027s\",\"mars\",\"Mars\",\"oreo\",\"starburst\"]}}, {_id:1, product_name:1, brands:1}).sort({product_name:1}).limit(5).pretty()'"
   ]
  },
  {
   "cell_type": "markdown",
   "id": "automotive-antique",
   "metadata": {},
   "source": [
    "## Insert a new document into the products collection. The document must have a minimum of 5 attributes with non-NULL values. Read back the document you just created."
   ]
  },
  {
   "cell_type": "code",
   "execution_count": 8,
   "id": "continent-focus",
   "metadata": {},
   "outputs": [],
   "source": [
    "doc = '{product_name: \"My Gummy Bear!\", brands: \"Gummy Bear Company\", creator: \"Katherine\", manufacturing_places:\"Austin, TX\", stores: \"Whole Foods Market\"}'"
   ]
  },
  {
   "cell_type": "code",
   "execution_count": 9,
   "id": "fixed-drinking",
   "metadata": {},
   "outputs": [
    {
     "name": "stdout",
     "output_type": "stream",
     "text": [
      "{\n",
      "\t\"acknowledged\" : true,\n",
      "\t\"insertedId\" : ObjectId(\"605bf43303d0dfe678d3ec85\")\n",
      "}\n"
     ]
    }
   ],
   "source": [
    "!mongo open_food --quiet --eval 'db.products.insertOne({doc})'"
   ]
  },
  {
   "cell_type": "code",
   "execution_count": 10,
   "id": "loaded-alpha",
   "metadata": {},
   "outputs": [
    {
     "name": "stdout",
     "output_type": "stream",
     "text": [
      "{\n",
      "\t\"_id\" : ObjectId(\"605bf43303d0dfe678d3ec85\"),\n",
      "\t\"product_name\" : \"My Gummy Bear!\",\n",
      "\t\"brands\" : \"Gummy Bear Company\",\n",
      "\t\"creator\" : \"Katherine\",\n",
      "\t\"manufacturing_places\" : \"Austin, TX\",\n",
      "\t\"stores\" : \"Whole Foods Market\"\n",
      "}\n"
     ]
    }
   ],
   "source": [
    "!mongo open_food --quiet --eval 'db.products.find({product_name: \"My Gummy Bear!\"}).pretty()'"
   ]
  },
  {
   "cell_type": "markdown",
   "id": "dimensional-cause",
   "metadata": {},
   "source": [
    "## Update the document you created in the previous step and then read it back."
   ]
  },
  {
   "cell_type": "code",
   "execution_count": 11,
   "id": "global-access",
   "metadata": {},
   "outputs": [
    {
     "name": "stdout",
     "output_type": "stream",
     "text": [
      "WriteResult({ \"nMatched\" : 1, \"nUpserted\" : 0, \"nModified\" : 1 })\n"
     ]
    }
   ],
   "source": [
    "!mongo open_food --quiet --eval 'db.products.update({product_name: \"My Gummy Bear!\"}, {$set: {packaging: \"plastic\"}}, false, true)'"
   ]
  },
  {
   "cell_type": "code",
   "execution_count": 12,
   "id": "after-phoenix",
   "metadata": {},
   "outputs": [
    {
     "name": "stdout",
     "output_type": "stream",
     "text": [
      "{\n",
      "\t\"_id\" : ObjectId(\"605bf43303d0dfe678d3ec85\"),\n",
      "\t\"product_name\" : \"My Gummy Bear!\",\n",
      "\t\"brands\" : \"Gummy Bear Company\",\n",
      "\t\"creator\" : \"Katherine\",\n",
      "\t\"manufacturing_places\" : \"Austin, TX\",\n",
      "\t\"stores\" : \"Whole Foods Market\",\n",
      "\t\"packaging\" : \"plastic\"\n",
      "}\n"
     ]
    }
   ],
   "source": [
    "!mongo open_food --quiet --eval 'db.products.find({product_name: \"My Gummy Bear!\"}).pretty()'"
   ]
  },
  {
   "cell_type": "markdown",
   "id": "comfortable-particle",
   "metadata": {},
   "source": [
    "## Delete the document you updated in the previous step and then query the collection to verify that it’s been deleted."
   ]
  },
  {
   "cell_type": "code",
   "execution_count": 13,
   "id": "limiting-sheep",
   "metadata": {},
   "outputs": [
    {
     "name": "stdout",
     "output_type": "stream",
     "text": [
      "309371\n"
     ]
    }
   ],
   "source": [
    "## before deleting the doc\n",
    "!mongo open_food --quiet --eval 'db.products.find({}).count()'"
   ]
  },
  {
   "cell_type": "code",
   "execution_count": 14,
   "id": "appropriate-springer",
   "metadata": {},
   "outputs": [
    {
     "name": "stdout",
     "output_type": "stream",
     "text": [
      "WriteResult({ \"nRemoved\" : 1 })\n"
     ]
    }
   ],
   "source": [
    "!mongo open_food --quiet --eval 'db.products.remove({doc})'"
   ]
  },
  {
   "cell_type": "code",
   "execution_count": 15,
   "id": "rising-signature",
   "metadata": {},
   "outputs": [
    {
     "name": "stdout",
     "output_type": "stream",
     "text": [
      "309370\n"
     ]
    }
   ],
   "source": [
    "## after deletin the doc\n",
    "!mongo open_food --quiet --eval 'db.products.find({}).count()'"
   ]
  }
 ],
 "metadata": {
  "environment": {
   "name": "common-cpu.mnightly-2021-01-20-debian-10-test",
   "type": "gcloud",
   "uri": "gcr.io/deeplearning-platform-release/base-cpu:mnightly-2021-01-20-debian-10-test"
  },
  "kernelspec": {
   "display_name": "Python 3",
   "language": "python",
   "name": "python3"
  },
  "language_info": {
   "codemirror_mode": {
    "name": "ipython",
    "version": 3
   },
   "file_extension": ".py",
   "mimetype": "text/x-python",
   "name": "python",
   "nbconvert_exporter": "python",
   "pygments_lexer": "ipython3",
   "version": "3.7.9"
  }
 },
 "nbformat": 4,
 "nbformat_minor": 5
}
