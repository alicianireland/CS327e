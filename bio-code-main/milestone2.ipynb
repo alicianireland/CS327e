{
 "cells": [
  {
   "cell_type": "markdown",
   "id": "lovely-airplane",
   "metadata": {},
   "source": [
    "## Create a new BQ dataset to store all of your modeled tables. The dataset should be named datamart."
   ]
  },
  {
   "cell_type": "code",
   "execution_count": 1,
   "id": "democratic-debate",
   "metadata": {},
   "outputs": [],
   "source": [
    "dataset_id = \"datamart\""
   ]
  },
  {
   "cell_type": "code",
   "execution_count": 2,
   "id": "ideal-occurrence",
   "metadata": {},
   "outputs": [
    {
     "name": "stdout",
     "output_type": "stream",
     "text": [
      "Dataset 'still-primer-302701:datamart' successfully created.\n"
     ]
    }
   ],
   "source": [
    "!bq --location=US mk --dataset {dataset_id}"
   ]
  },
  {
   "cell_type": "markdown",
   "id": "liberal-composer",
   "metadata": {},
   "source": [
    "## Create your modeled tables by following our BigQuery design guidelines"
   ]
  },
  {
   "cell_type": "markdown",
   "id": "intelligent-grade",
   "metadata": {},
   "source": [
    "#### For each field in your modeled tables, choose a primitive data type that most precisely represents its domain of values"
   ]
  },
  {
   "cell_type": "code",
   "execution_count": 3,
   "id": "romantic-clause",
   "metadata": {},
   "outputs": [
    {
     "data": {
      "text/html": [
       "<div>\n",
       "<style scoped>\n",
       "    .dataframe tbody tr th:only-of-type {\n",
       "        vertical-align: middle;\n",
       "    }\n",
       "\n",
       "    .dataframe tbody tr th {\n",
       "        vertical-align: top;\n",
       "    }\n",
       "\n",
       "    .dataframe thead th {\n",
       "        text-align: right;\n",
       "    }\n",
       "</style>\n",
       "<table border=\"1\" class=\"dataframe\">\n",
       "  <thead>\n",
       "    <tr style=\"text-align: right;\">\n",
       "      <th></th>\n",
       "    </tr>\n",
       "  </thead>\n",
       "  <tbody>\n",
       "  </tbody>\n",
       "</table>\n",
       "</div>"
      ],
      "text/plain": [
       "Empty DataFrame\n",
       "Columns: []\n",
       "Index: []"
      ]
     },
     "execution_count": 3,
     "metadata": {},
     "output_type": "execute_result"
    }
   ],
   "source": [
    "%%bigquery\n",
    "CREATE TABLE datamart.States AS\n",
    "select  DISTINCT u.Geographic_Area_Name as state, u.id as id, 'US' as country from uscb_staging.Social_Characteristics u \n",
    "join fda_staging.US_COVID_Cases c on c.Province_State = u.Geographic_Area_Name;"
   ]
  },
  {
   "cell_type": "code",
   "execution_count": 4,
   "id": "modern-somewhere",
   "metadata": {},
   "outputs": [
    {
     "data": {
      "text/html": [
       "<div>\n",
       "<style scoped>\n",
       "    .dataframe tbody tr th:only-of-type {\n",
       "        vertical-align: middle;\n",
       "    }\n",
       "\n",
       "    .dataframe tbody tr th {\n",
       "        vertical-align: top;\n",
       "    }\n",
       "\n",
       "    .dataframe thead th {\n",
       "        text-align: right;\n",
       "    }\n",
       "</style>\n",
       "<table border=\"1\" class=\"dataframe\">\n",
       "  <thead>\n",
       "    <tr style=\"text-align: right;\">\n",
       "      <th></th>\n",
       "    </tr>\n",
       "  </thead>\n",
       "  <tbody>\n",
       "  </tbody>\n",
       "</table>\n",
       "</div>"
      ],
      "text/plain": [
       "Empty DataFrame\n",
       "Columns: []\n",
       "Index: []"
      ]
     },
     "execution_count": 4,
     "metadata": {},
     "output_type": "execute_result"
    }
   ],
   "source": [
    "%%bigquery\n",
    "CREATE TABLE datamart.Cases AS\n",
    "SELECT Province_State as state, \n",
    "CAST(Last_Update as DATE) as last_Update, \n",
    "concat(Province_State, cast(last_Update as string)) as id,\n",
    "Total_Test_Results as total_test_results, \n",
    "Confirmed as confirmed, Deaths as deaths, \n",
    "Recovered as recovered, Active as active, \n",
    "Case_Fatality_Ratio as case_fatality_ratio, \n",
    "Testing_Rate as testing_rate \n",
    "FROM fda_staging.US_COVID_Cases;"
   ]
  },
  {
   "cell_type": "code",
   "execution_count": 5,
   "id": "congressional-heaven",
   "metadata": {},
   "outputs": [
    {
     "data": {
      "text/html": [
       "<div>\n",
       "<style scoped>\n",
       "    .dataframe tbody tr th:only-of-type {\n",
       "        vertical-align: middle;\n",
       "    }\n",
       "\n",
       "    .dataframe tbody tr th {\n",
       "        vertical-align: top;\n",
       "    }\n",
       "\n",
       "    .dataframe thead th {\n",
       "        text-align: right;\n",
       "    }\n",
       "</style>\n",
       "<table border=\"1\" class=\"dataframe\">\n",
       "  <thead>\n",
       "    <tr style=\"text-align: right;\">\n",
       "      <th></th>\n",
       "    </tr>\n",
       "  </thead>\n",
       "  <tbody>\n",
       "  </tbody>\n",
       "</table>\n",
       "</div>"
      ],
      "text/plain": [
       "Empty DataFrame\n",
       "Columns: []\n",
       "Index: []"
      ]
     },
     "execution_count": 5,
     "metadata": {},
     "output_type": "execute_result"
    }
   ],
   "source": [
    "%%bigquery\n",
    "CREATE TABLE datamart.Location AS\n",
    "SELECT DISTINCT Province_State as state, Lat as latitude, Long_ as longitude FROM fda_staging.US_COVID_Cases;"
   ]
  },
  {
   "cell_type": "code",
   "execution_count": 6,
   "id": "bright-northwest",
   "metadata": {},
   "outputs": [
    {
     "data": {
      "text/html": [
       "<div>\n",
       "<style scoped>\n",
       "    .dataframe tbody tr th:only-of-type {\n",
       "        vertical-align: middle;\n",
       "    }\n",
       "\n",
       "    .dataframe tbody tr th {\n",
       "        vertical-align: top;\n",
       "    }\n",
       "\n",
       "    .dataframe thead th {\n",
       "        text-align: right;\n",
       "    }\n",
       "</style>\n",
       "<table border=\"1\" class=\"dataframe\">\n",
       "  <thead>\n",
       "    <tr style=\"text-align: right;\">\n",
       "      <th></th>\n",
       "    </tr>\n",
       "  </thead>\n",
       "  <tbody>\n",
       "  </tbody>\n",
       "</table>\n",
       "</div>"
      ],
      "text/plain": [
       "Empty DataFrame\n",
       "Columns: []\n",
       "Index: []"
      ]
     },
     "execution_count": 6,
     "metadata": {},
     "output_type": "execute_result"
    }
   ],
   "source": [
    "%%bigquery\n",
    "CREATE TABLE datamart.Households AS\n",
    "SELECT DISTINCT Geographic_Area_Name as state, \n",
    "Estimate__HOUSEHOLDS_BY_TYPE__Total_households as total_households, \n",
    "Estimate__HOUSEHOLDS_BY_TYPE__Total_households__Married_couple_family as married_couple_family, \n",
    "Estimate__HOUSEHOLDS_BY_TYPE__Total_households__Married_couple_family__With_own_children_of_the_householder_under_18_years as married_couple_with_children, \n",
    "Estimate__HOUSEHOLDS_BY_TYPE__Total_households__Cohabiting_couple_household as cohabiting_couple,\n",
    "Estimate__HOUSEHOLDS_BY_TYPE__Total_households__Cohabiting_couple_household__With_own_children_of_the_householder_under_18_years as cohabiting_couple_with_children, \n",
    "Estimate__HOUSEHOLDS_BY_TYPE__Total_households__Male_householder__no_spouse_partner_present as male_no_spouse,\n",
    "Estimate__HOUSEHOLDS_BY_TYPE__Total_households__Female_householder__no_spouse_partner_present as female_no_spouse,\n",
    "Estimate__HOUSEHOLDS_BY_TYPE__Total_households__Households_with_one_or_more_people_65_years_and_over as family_with_elders,\n",
    "Estimate__HOUSEHOLDS_BY_TYPE__Total_households__Average_household_size as avg_household_size, \n",
    "Estimate__HOUSEHOLDS_BY_TYPE__Total_households__Average_family_size as avg_family_Size \n",
    "FROM uscb_staging.Social_Characteristics;"
   ]
  },
  {
   "cell_type": "code",
   "execution_count": 7,
   "id": "valid-economics",
   "metadata": {},
   "outputs": [
    {
     "data": {
      "text/html": [
       "<div>\n",
       "<style scoped>\n",
       "    .dataframe tbody tr th:only-of-type {\n",
       "        vertical-align: middle;\n",
       "    }\n",
       "\n",
       "    .dataframe tbody tr th {\n",
       "        vertical-align: top;\n",
       "    }\n",
       "\n",
       "    .dataframe thead th {\n",
       "        text-align: right;\n",
       "    }\n",
       "</style>\n",
       "<table border=\"1\" class=\"dataframe\">\n",
       "  <thead>\n",
       "    <tr style=\"text-align: right;\">\n",
       "      <th></th>\n",
       "    </tr>\n",
       "  </thead>\n",
       "  <tbody>\n",
       "  </tbody>\n",
       "</table>\n",
       "</div>"
      ],
      "text/plain": [
       "Empty DataFrame\n",
       "Columns: []\n",
       "Index: []"
      ]
     },
     "execution_count": 7,
     "metadata": {},
     "output_type": "execute_result"
    }
   ],
   "source": [
    "%%bigquery\n",
    "CREATE TABLE datamart.Education AS \n",
    "SELECT DISTINCT Geographic_Area_Name as state, \n",
    "Estimate__SCHOOL_ENROLLMENT__Population_3_years_and_over_enrolled_in_school as over_3yo_enrolled, \n",
    "Estimate__SCHOOL_ENROLLMENT__Population_3_years_and_over_enrolled_in_school__High_school__grades_9_12_ as over_3yo_in_HS,\n",
    "Estimate__SCHOOL_ENROLLMENT__Population_3_years_and_over_enrolled_in_school__College_or_graduate_school as over_3yo_in_college_or_grad,\n",
    "Estimate__EDUCATIONAL_ATTAINMENT__Population_25_years_and_over as over_25yo,\n",
    "Estimate__EDUCATIONAL_ATTAINMENT__Population_25_years_and_over__High_school_graduate__includes_equivalency_ as over_25yo_HS_grad,\n",
    "Estimate__EDUCATIONAL_ATTAINMENT__Population_25_years_and_over__Some_college__no_degree as over_25yo_no_degree,\n",
    "Estimate__EDUCATIONAL_ATTAINMENT__Population_25_years_and_over__Bachelor_s_degree as over_25yo_bachelors, \n",
    "Estimate__EDUCATIONAL_ATTAINMENT__Population_25_years_and_over__Graduate_or_professional_degree as over_25yo_prof, \n",
    "Estimate__EDUCATIONAL_ATTAINMENT__Population_25_years_and_over__High_school_graduate_or_higher as over_25yo_HS_or_higher\n",
    "FROM uscb_staging.Social_Characteristics;"
   ]
  },
  {
   "cell_type": "code",
   "execution_count": 8,
   "id": "magnetic-oxford",
   "metadata": {},
   "outputs": [
    {
     "data": {
      "text/html": [
       "<div>\n",
       "<style scoped>\n",
       "    .dataframe tbody tr th:only-of-type {\n",
       "        vertical-align: middle;\n",
       "    }\n",
       "\n",
       "    .dataframe tbody tr th {\n",
       "        vertical-align: top;\n",
       "    }\n",
       "\n",
       "    .dataframe thead th {\n",
       "        text-align: right;\n",
       "    }\n",
       "</style>\n",
       "<table border=\"1\" class=\"dataframe\">\n",
       "  <thead>\n",
       "    <tr style=\"text-align: right;\">\n",
       "      <th></th>\n",
       "    </tr>\n",
       "  </thead>\n",
       "  <tbody>\n",
       "  </tbody>\n",
       "</table>\n",
       "</div>"
      ],
      "text/plain": [
       "Empty DataFrame\n",
       "Columns: []\n",
       "Index: []"
      ]
     },
     "execution_count": 8,
     "metadata": {},
     "output_type": "execute_result"
    }
   ],
   "source": [
    "%%bigquery\n",
    "CREATE TABLE datamart.Disability AS\n",
    "SELECT DISTINCT Geographic_Area_Name as state,\n",
    "Estimate__DISABILITY_STATUS_OF_THE_CIVILIAN_NONINSTITUTIONALIZED_POPULATION__Total_Civilian_Noninstitutionalized_Population as noninstitutionalized,\n",
    "Estimate__DISABILITY_STATUS_OF_THE_CIVILIAN_NONINSTITUTIONALIZED_POPULATION__Total_Civilian_Noninstitutionalized_Population__With_a_disability as noninstitutionalized_with_disability, \n",
    "Estimate__DISABILITY_STATUS_OF_THE_CIVILIAN_NONINSTITUTIONALIZED_POPULATION__65_years_and_over as noninstitutionalized_65over,\n",
    "Estimate__DISABILITY_STATUS_OF_THE_CIVILIAN_NONINSTITUTIONALIZED_POPULATION__65_years_and_over__With_a_disability as noninstitutionalized_65over_with_disability\n",
    "from uscb_staging.Social_Characteristics; "
   ]
  },
  {
   "cell_type": "code",
   "execution_count": 9,
   "id": "entire-world",
   "metadata": {},
   "outputs": [
    {
     "data": {
      "text/html": [
       "<div>\n",
       "<style scoped>\n",
       "    .dataframe tbody tr th:only-of-type {\n",
       "        vertical-align: middle;\n",
       "    }\n",
       "\n",
       "    .dataframe tbody tr th {\n",
       "        vertical-align: top;\n",
       "    }\n",
       "\n",
       "    .dataframe thead th {\n",
       "        text-align: right;\n",
       "    }\n",
       "</style>\n",
       "<table border=\"1\" class=\"dataframe\">\n",
       "  <thead>\n",
       "    <tr style=\"text-align: right;\">\n",
       "      <th></th>\n",
       "    </tr>\n",
       "  </thead>\n",
       "  <tbody>\n",
       "  </tbody>\n",
       "</table>\n",
       "</div>"
      ],
      "text/plain": [
       "Empty DataFrame\n",
       "Columns: []\n",
       "Index: []"
      ]
     },
     "execution_count": 9,
     "metadata": {},
     "output_type": "execute_result"
    }
   ],
   "source": [
    "%%bigquery\n",
    "CREATE TABLE datamart.Citizenship AS\n",
    "SELECT DISTINCT Geographic_Area_Name as state, \n",
    "Percent__PLACE_OF_BIRTH__Total_population__Foreign_born as percent_foreign_born, \n",
    "Percent__U_S__CITIZENSHIP_STATUS__Foreign_born_population__Naturalized_U_S__citizen as percent_naturalized, \n",
    "Percent__U_S__CITIZENSHIP_STATUS__Foreign_born_population__Not_a_U_S__citizen as percent_noncitizen, \n",
    "Percent__WORLD_REGION_OF_BIRTH_OF_FOREIGN_BORN__Foreign_born_population__excluding_population_born_at_sea__Asia as percent_from_Asia, \n",
    "Percent__WORLD_REGION_OF_BIRTH_OF_FOREIGN_BORN__Foreign_born_population__excluding_population_born_at_sea__Africa as percent_from_Africa,\n",
    "Percent__WORLD_REGION_OF_BIRTH_OF_FOREIGN_BORN__Foreign_born_population__excluding_population_born_at_sea__Latin_America as percent_from_LatinAmerica \n",
    "from uscb_staging.Social_Characteristics;"
   ]
  },
  {
   "cell_type": "code",
   "execution_count": 10,
   "id": "designed-initial",
   "metadata": {},
   "outputs": [
    {
     "data": {
      "text/html": [
       "<div>\n",
       "<style scoped>\n",
       "    .dataframe tbody tr th:only-of-type {\n",
       "        vertical-align: middle;\n",
       "    }\n",
       "\n",
       "    .dataframe tbody tr th {\n",
       "        vertical-align: top;\n",
       "    }\n",
       "\n",
       "    .dataframe thead th {\n",
       "        text-align: right;\n",
       "    }\n",
       "</style>\n",
       "<table border=\"1\" class=\"dataframe\">\n",
       "  <thead>\n",
       "    <tr style=\"text-align: right;\">\n",
       "      <th></th>\n",
       "    </tr>\n",
       "  </thead>\n",
       "  <tbody>\n",
       "  </tbody>\n",
       "</table>\n",
       "</div>"
      ],
      "text/plain": [
       "Empty DataFrame\n",
       "Columns: []\n",
       "Index: []"
      ]
     },
     "execution_count": 10,
     "metadata": {},
     "output_type": "execute_result"
    }
   ],
   "source": [
    "%%bigquery\n",
    "CREATE TABLE datamart.Ancestry AS\n",
    "SELECT DISTINCT Geographic_Area_Name as state, \n",
    "Percent__ANCESTRY__Total_population__American as percent_American,\n",
    "Percent__ANCESTRY__Total_population__Arab as percent_Arab, \n",
    "Percent__ANCESTRY__Total_population__Danish as percent_Danish,\n",
    "Percent__ANCESTRY__Total_population__English as percent_English,\n",
    "Percent__ANCESTRY__Total_population__German as percent_German,\n",
    "Percent__ANCESTRY__Total_population__Portuguese as percent_Portuguese, \n",
    "Percent__ANCESTRY__Total_population__Russian as percent_Russian, \n",
    "Percent__ANCESTRY__Total_population__Subsaharan_African as percent_Subsaharan_African \n",
    "from uscb_staging.Social_Characteristics;"
   ]
  },
  {
   "cell_type": "code",
   "execution_count": 21,
   "id": "lonely-figure",
   "metadata": {},
   "outputs": [
    {
     "data": {
      "text/html": [
       "<div>\n",
       "<style scoped>\n",
       "    .dataframe tbody tr th:only-of-type {\n",
       "        vertical-align: middle;\n",
       "    }\n",
       "\n",
       "    .dataframe tbody tr th {\n",
       "        vertical-align: top;\n",
       "    }\n",
       "\n",
       "    .dataframe thead th {\n",
       "        text-align: right;\n",
       "    }\n",
       "</style>\n",
       "<table border=\"1\" class=\"dataframe\">\n",
       "  <thead>\n",
       "    <tr style=\"text-align: right;\">\n",
       "      <th></th>\n",
       "      <th>state</th>\n",
       "      <th>percent_American</th>\n",
       "      <th>percent_Arab</th>\n",
       "      <th>percent_Danish</th>\n",
       "      <th>percent_English</th>\n",
       "      <th>percent_German</th>\n",
       "      <th>percent_Portuguese</th>\n",
       "      <th>percent_Russian</th>\n",
       "      <th>percent_Subsaharan_African</th>\n",
       "    </tr>\n",
       "  </thead>\n",
       "  <tbody>\n",
       "    <tr>\n",
       "      <th>0</th>\n",
       "      <td>Puerto Rico</td>\n",
       "      <td>1.7</td>\n",
       "      <td>0.1</td>\n",
       "      <td>0.0</td>\n",
       "      <td>0.0</td>\n",
       "      <td>0.0</td>\n",
       "      <td>0.0</td>\n",
       "      <td>0.0</td>\n",
       "      <td>0.2</td>\n",
       "    </tr>\n",
       "    <tr>\n",
       "      <th>1</th>\n",
       "      <td>Iowa</td>\n",
       "      <td>4.6</td>\n",
       "      <td>0.3</td>\n",
       "      <td>1.4</td>\n",
       "      <td>7.3</td>\n",
       "      <td>31.1</td>\n",
       "      <td>0.0</td>\n",
       "      <td>0.3</td>\n",
       "      <td>1.0</td>\n",
       "    </tr>\n",
       "    <tr>\n",
       "      <th>2</th>\n",
       "      <td>Massachusetts</td>\n",
       "      <td>4.0</td>\n",
       "      <td>1.0</td>\n",
       "      <td>0.2</td>\n",
       "      <td>8.9</td>\n",
       "      <td>5.4</td>\n",
       "      <td>4.0</td>\n",
       "      <td>1.4</td>\n",
       "      <td>2.2</td>\n",
       "    </tr>\n",
       "    <tr>\n",
       "      <th>3</th>\n",
       "      <td>Idaho</td>\n",
       "      <td>5.4</td>\n",
       "      <td>0.3</td>\n",
       "      <td>1.9</td>\n",
       "      <td>14.7</td>\n",
       "      <td>15.3</td>\n",
       "      <td>0.5</td>\n",
       "      <td>0.4</td>\n",
       "      <td>0.2</td>\n",
       "    </tr>\n",
       "    <tr>\n",
       "      <th>4</th>\n",
       "      <td>Vermont</td>\n",
       "      <td>8.1</td>\n",
       "      <td>0.4</td>\n",
       "      <td>0.4</td>\n",
       "      <td>16.1</td>\n",
       "      <td>9.3</td>\n",
       "      <td>0.5</td>\n",
       "      <td>1.1</td>\n",
       "      <td>0.6</td>\n",
       "    </tr>\n",
       "  </tbody>\n",
       "</table>\n",
       "</div>"
      ],
      "text/plain": [
       "           state  percent_American  percent_Arab  percent_Danish  \\\n",
       "0    Puerto Rico               1.7           0.1             0.0   \n",
       "1           Iowa               4.6           0.3             1.4   \n",
       "2  Massachusetts               4.0           1.0             0.2   \n",
       "3          Idaho               5.4           0.3             1.9   \n",
       "4        Vermont               8.1           0.4             0.4   \n",
       "\n",
       "   percent_English  percent_German  percent_Portuguese  percent_Russian  \\\n",
       "0              0.0             0.0                 0.0              0.0   \n",
       "1              7.3            31.1                 0.0              0.3   \n",
       "2              8.9             5.4                 4.0              1.4   \n",
       "3             14.7            15.3                 0.5              0.4   \n",
       "4             16.1             9.3                 0.5              1.1   \n",
       "\n",
       "   percent_Subsaharan_African  \n",
       "0                         0.2  \n",
       "1                         1.0  \n",
       "2                         2.2  \n",
       "3                         0.2  \n",
       "4                         0.6  "
      ]
     },
     "execution_count": 21,
     "metadata": {},
     "output_type": "execute_result"
    }
   ],
   "source": [
    "%%bigquery\n",
    "\n",
    "select * from datamart.Ancestry\n",
    "limit 5"
   ]
  },
  {
   "cell_type": "markdown",
   "id": "surprising-playing",
   "metadata": {},
   "source": [
    "## Continue to explore your data by writing SQL queries on your modeled tables (first 3 use subquery w/ agregation and last 2 use aggregation)"
   ]
  },
  {
   "cell_type": "markdown",
   "id": "retired-coating",
   "metadata": {},
   "source": [
    "## Find states that are on the eastern half of the United States (longitude greater than -100) and show the covid death cases of those states ordered by number of confirmed cases to see if confirmed cases and number of deaths have a direct relationship"
   ]
  },
  {
   "cell_type": "code",
   "execution_count": 22,
   "id": "imposed-bargain",
   "metadata": {},
   "outputs": [
    {
     "data": {
      "text/html": [
       "<div>\n",
       "<style scoped>\n",
       "    .dataframe tbody tr th:only-of-type {\n",
       "        vertical-align: middle;\n",
       "    }\n",
       "\n",
       "    .dataframe tbody tr th {\n",
       "        vertical-align: top;\n",
       "    }\n",
       "\n",
       "    .dataframe thead th {\n",
       "        text-align: right;\n",
       "    }\n",
       "</style>\n",
       "<table border=\"1\" class=\"dataframe\">\n",
       "  <thead>\n",
       "    <tr style=\"text-align: right;\">\n",
       "      <th></th>\n",
       "      <th>state</th>\n",
       "      <th>deaths</th>\n",
       "      <th>confirmed</th>\n",
       "      <th>latitude</th>\n",
       "    </tr>\n",
       "  </thead>\n",
       "  <tbody>\n",
       "    <tr>\n",
       "      <th>0</th>\n",
       "      <td>Texas</td>\n",
       "      <td>49510</td>\n",
       "      <td>2847101</td>\n",
       "      <td>31.0545</td>\n",
       "    </tr>\n",
       "    <tr>\n",
       "      <th>1</th>\n",
       "      <td>Florida</td>\n",
       "      <td>34330</td>\n",
       "      <td>2155744</td>\n",
       "      <td>27.7663</td>\n",
       "    </tr>\n",
       "    <tr>\n",
       "      <th>2</th>\n",
       "      <td>New York</td>\n",
       "      <td>51470</td>\n",
       "      <td>1986681</td>\n",
       "      <td>42.1657</td>\n",
       "    </tr>\n",
       "    <tr>\n",
       "      <th>3</th>\n",
       "      <td>Illinois</td>\n",
       "      <td>23920</td>\n",
       "      <td>1296267</td>\n",
       "      <td>40.3495</td>\n",
       "    </tr>\n",
       "    <tr>\n",
       "      <th>4</th>\n",
       "      <td>Pennsylvania</td>\n",
       "      <td>25613</td>\n",
       "      <td>1100857</td>\n",
       "      <td>40.5908</td>\n",
       "    </tr>\n",
       "    <tr>\n",
       "      <th>5</th>\n",
       "      <td>Georgia</td>\n",
       "      <td>19718</td>\n",
       "      <td>1081629</td>\n",
       "      <td>33.0406</td>\n",
       "    </tr>\n",
       "    <tr>\n",
       "      <th>6</th>\n",
       "      <td>Ohio</td>\n",
       "      <td>18991</td>\n",
       "      <td>1050112</td>\n",
       "      <td>40.3888</td>\n",
       "    </tr>\n",
       "    <tr>\n",
       "      <th>7</th>\n",
       "      <td>New Jersey</td>\n",
       "      <td>25094</td>\n",
       "      <td>971782</td>\n",
       "      <td>40.2989</td>\n",
       "    </tr>\n",
       "    <tr>\n",
       "      <th>8</th>\n",
       "      <td>North Carolina</td>\n",
       "      <td>12387</td>\n",
       "      <td>943693</td>\n",
       "      <td>35.6301</td>\n",
       "    </tr>\n",
       "    <tr>\n",
       "      <th>9</th>\n",
       "      <td>Michigan</td>\n",
       "      <td>17858</td>\n",
       "      <td>867624</td>\n",
       "      <td>43.3266</td>\n",
       "    </tr>\n",
       "  </tbody>\n",
       "</table>\n",
       "</div>"
      ],
      "text/plain": [
       "            state  deaths  confirmed  latitude\n",
       "0           Texas   49510    2847101   31.0545\n",
       "1         Florida   34330    2155744   27.7663\n",
       "2        New York   51470    1986681   42.1657\n",
       "3        Illinois   23920    1296267   40.3495\n",
       "4    Pennsylvania   25613    1100857   40.5908\n",
       "5         Georgia   19718    1081629   33.0406\n",
       "6            Ohio   18991    1050112   40.3888\n",
       "7      New Jersey   25094     971782   40.2989\n",
       "8  North Carolina   12387     943693   35.6301\n",
       "9        Michigan   17858     867624   43.3266"
      ]
     },
     "execution_count": 22,
     "metadata": {},
     "output_type": "execute_result"
    }
   ],
   "source": [
    "%%bigquery\n",
    "select c2.state, c2.deaths, c2.confirmed, l.latitude\n",
    "from (select c.state, max(c.deaths) as deaths, max(c.confirmed) as confirmed from datamart.Cases c group by c.state) c2\n",
    "join datamart.Location l on c2.state = l.state\n",
    "where l.longitude > -100\n",
    "order by c2.confirmed desc\n",
    "limit 10"
   ]
  },
  {
   "cell_type": "markdown",
   "id": "grave-mobility",
   "metadata": {},
   "source": [
    "## Find states that are on the western half of the United states and show COVID death cases ordered by testing rate to see if there is a relationship between testing as many people as possible and covid spread/severity"
   ]
  },
  {
   "cell_type": "code",
   "execution_count": 23,
   "id": "disturbed-instruction",
   "metadata": {},
   "outputs": [
    {
     "data": {
      "text/html": [
       "<div>\n",
       "<style scoped>\n",
       "    .dataframe tbody tr th:only-of-type {\n",
       "        vertical-align: middle;\n",
       "    }\n",
       "\n",
       "    .dataframe tbody tr th {\n",
       "        vertical-align: top;\n",
       "    }\n",
       "\n",
       "    .dataframe thead th {\n",
       "        text-align: right;\n",
       "    }\n",
       "</style>\n",
       "<table border=\"1\" class=\"dataframe\">\n",
       "  <thead>\n",
       "    <tr style=\"text-align: right;\">\n",
       "      <th></th>\n",
       "      <th>state</th>\n",
       "      <th>deaths</th>\n",
       "      <th>latitude</th>\n",
       "    </tr>\n",
       "  </thead>\n",
       "  <tbody>\n",
       "    <tr>\n",
       "      <th>0</th>\n",
       "      <td>Alaska</td>\n",
       "      <td>334</td>\n",
       "      <td>61.3707</td>\n",
       "    </tr>\n",
       "    <tr>\n",
       "      <th>1</th>\n",
       "      <td>New Mexico</td>\n",
       "      <td>4001</td>\n",
       "      <td>34.8405</td>\n",
       "    </tr>\n",
       "    <tr>\n",
       "      <th>2</th>\n",
       "      <td>California</td>\n",
       "      <td>60922</td>\n",
       "      <td>36.1162</td>\n",
       "    </tr>\n",
       "    <tr>\n",
       "      <th>3</th>\n",
       "      <td>Colorado</td>\n",
       "      <td>6186</td>\n",
       "      <td>39.0598</td>\n",
       "    </tr>\n",
       "    <tr>\n",
       "      <th>4</th>\n",
       "      <td>Wyoming</td>\n",
       "      <td>703</td>\n",
       "      <td>42.7560</td>\n",
       "    </tr>\n",
       "    <tr>\n",
       "      <th>5</th>\n",
       "      <td>Arizona</td>\n",
       "      <td>17153</td>\n",
       "      <td>33.7298</td>\n",
       "    </tr>\n",
       "    <tr>\n",
       "      <th>6</th>\n",
       "      <td>Montana</td>\n",
       "      <td>1537</td>\n",
       "      <td>46.9219</td>\n",
       "    </tr>\n",
       "    <tr>\n",
       "      <th>7</th>\n",
       "      <td>Oregon</td>\n",
       "      <td>2457</td>\n",
       "      <td>44.5720</td>\n",
       "    </tr>\n",
       "    <tr>\n",
       "      <th>8</th>\n",
       "      <td>Oregon</td>\n",
       "      <td>2457</td>\n",
       "      <td>44.5720</td>\n",
       "    </tr>\n",
       "    <tr>\n",
       "      <th>9</th>\n",
       "      <td>Nevada</td>\n",
       "      <td>5365</td>\n",
       "      <td>38.3135</td>\n",
       "    </tr>\n",
       "  </tbody>\n",
       "</table>\n",
       "</div>"
      ],
      "text/plain": [
       "        state  deaths  latitude\n",
       "0      Alaska     334   61.3707\n",
       "1  New Mexico    4001   34.8405\n",
       "2  California   60922   36.1162\n",
       "3    Colorado    6186   39.0598\n",
       "4     Wyoming     703   42.7560\n",
       "5     Arizona   17153   33.7298\n",
       "6     Montana    1537   46.9219\n",
       "7      Oregon    2457   44.5720\n",
       "8      Oregon    2457   44.5720\n",
       "9      Nevada    5365   38.3135"
      ]
     },
     "execution_count": 23,
     "metadata": {},
     "output_type": "execute_result"
    }
   ],
   "source": [
    "%%bigquery\n",
    "select c2.state, c2.deaths, l.latitude\n",
    "from (select c.state, max(c.deaths) as deaths, max(c.testing_rate) as testing_rate from datamart.Cases c group by c.state) c2\n",
    "join datamart.Location l on c2.state = l.state\n",
    "where l.longitude < -100\n",
    "order by c2.testing_rate desc\n",
    "limit 10"
   ]
  },
  {
   "cell_type": "markdown",
   "id": "english-seventh",
   "metadata": {},
   "source": [
    "## Write a query see if there is a relationship bewteen education level and COVID deaths cases. Education level for this query will be the proportion of people who obtained a higher education degree (professional degree after going to professional school or graduate school) among those who graduated high school for each state. Higher proportion will represent more people over 25 years old chose to pursue higher education after high school."
   ]
  },
  {
   "cell_type": "code",
   "execution_count": 24,
   "id": "romantic-swift",
   "metadata": {},
   "outputs": [
    {
     "data": {
      "text/html": [
       "<div>\n",
       "<style scoped>\n",
       "    .dataframe tbody tr th:only-of-type {\n",
       "        vertical-align: middle;\n",
       "    }\n",
       "\n",
       "    .dataframe tbody tr th {\n",
       "        vertical-align: top;\n",
       "    }\n",
       "\n",
       "    .dataframe thead th {\n",
       "        text-align: right;\n",
       "    }\n",
       "</style>\n",
       "<table border=\"1\" class=\"dataframe\">\n",
       "  <thead>\n",
       "    <tr style=\"text-align: right;\">\n",
       "      <th></th>\n",
       "      <th>state</th>\n",
       "      <th>deaths</th>\n",
       "      <th>higher_degree_proportion</th>\n",
       "    </tr>\n",
       "  </thead>\n",
       "  <tbody>\n",
       "    <tr>\n",
       "      <th>0</th>\n",
       "      <td>District of Columbia</td>\n",
       "      <td>1093</td>\n",
       "      <td>0.369855</td>\n",
       "    </tr>\n",
       "    <tr>\n",
       "      <th>1</th>\n",
       "      <td>Massachusetts</td>\n",
       "      <td>17445</td>\n",
       "      <td>0.222261</td>\n",
       "    </tr>\n",
       "    <tr>\n",
       "      <th>2</th>\n",
       "      <td>Maryland</td>\n",
       "      <td>8528</td>\n",
       "      <td>0.211135</td>\n",
       "    </tr>\n",
       "    <tr>\n",
       "      <th>3</th>\n",
       "      <td>Connecticut</td>\n",
       "      <td>7995</td>\n",
       "      <td>0.196673</td>\n",
       "    </tr>\n",
       "    <tr>\n",
       "      <th>4</th>\n",
       "      <td>Virginia</td>\n",
       "      <td>10549</td>\n",
       "      <td>0.191426</td>\n",
       "    </tr>\n",
       "    <tr>\n",
       "      <th>5</th>\n",
       "      <td>New York</td>\n",
       "      <td>51470</td>\n",
       "      <td>0.189447</td>\n",
       "    </tr>\n",
       "    <tr>\n",
       "      <th>6</th>\n",
       "      <td>New Jersey</td>\n",
       "      <td>25094</td>\n",
       "      <td>0.178121</td>\n",
       "    </tr>\n",
       "    <tr>\n",
       "      <th>7</th>\n",
       "      <td>Colorado</td>\n",
       "      <td>6186</td>\n",
       "      <td>0.173652</td>\n",
       "    </tr>\n",
       "    <tr>\n",
       "      <th>8</th>\n",
       "      <td>Vermont</td>\n",
       "      <td>242</td>\n",
       "      <td>0.171828</td>\n",
       "    </tr>\n",
       "    <tr>\n",
       "      <th>9</th>\n",
       "      <td>New Hampshire</td>\n",
       "      <td>1266</td>\n",
       "      <td>0.157099</td>\n",
       "    </tr>\n",
       "  </tbody>\n",
       "</table>\n",
       "</div>"
      ],
      "text/plain": [
       "                  state  deaths  higher_degree_proportion\n",
       "0  District of Columbia    1093                  0.369855\n",
       "1         Massachusetts   17445                  0.222261\n",
       "2              Maryland    8528                  0.211135\n",
       "3           Connecticut    7995                  0.196673\n",
       "4              Virginia   10549                  0.191426\n",
       "5              New York   51470                  0.189447\n",
       "6            New Jersey   25094                  0.178121\n",
       "7              Colorado    6186                  0.173652\n",
       "8               Vermont     242                  0.171828\n",
       "9         New Hampshire    1266                  0.157099"
      ]
     },
     "execution_count": 24,
     "metadata": {},
     "output_type": "execute_result"
    }
   ],
   "source": [
    "%%bigquery\n",
    "select c2.state, c2.deaths, e.over_25yo_prof/e.over_25yo_HS_or_higher as higher_degree_proportion\n",
    "from (select c.state, max(c.deaths) as deaths from datamart.Cases c group by c.state) c2\n",
    "join datamart.Education e on c2.state = e.state\n",
    "order by higher_degree_proportion desc\n",
    "limit 10"
   ]
  },
  {
   "cell_type": "markdown",
   "id": "activated-sunday",
   "metadata": {},
   "source": [
    "## For each state, see how many households there are, how many households are a family one householder and no spouse, family of couples without a child for each state and order by states' household (decreasing). Show covid cases of those states as well to see if covid confirmed cases are high for those states that have more households."
   ]
  },
  {
   "cell_type": "code",
   "execution_count": 25,
   "id": "administrative-sheep",
   "metadata": {},
   "outputs": [
    {
     "data": {
      "text/html": [
       "<div>\n",
       "<style scoped>\n",
       "    .dataframe tbody tr th:only-of-type {\n",
       "        vertical-align: middle;\n",
       "    }\n",
       "\n",
       "    .dataframe tbody tr th {\n",
       "        vertical-align: top;\n",
       "    }\n",
       "\n",
       "    .dataframe thead th {\n",
       "        text-align: right;\n",
       "    }\n",
       "</style>\n",
       "<table border=\"1\" class=\"dataframe\">\n",
       "  <thead>\n",
       "    <tr style=\"text-align: right;\">\n",
       "      <th></th>\n",
       "      <th>state</th>\n",
       "      <th>total_no_spouse</th>\n",
       "      <th>no_child</th>\n",
       "      <th>total_households</th>\n",
       "      <th>total_confirmed</th>\n",
       "    </tr>\n",
       "  </thead>\n",
       "  <tbody>\n",
       "    <tr>\n",
       "      <th>0</th>\n",
       "      <td>California</td>\n",
       "      <td>2132391030</td>\n",
       "      <td>2736021980</td>\n",
       "      <td>4868413010</td>\n",
       "      <td>535221539</td>\n",
       "    </tr>\n",
       "    <tr>\n",
       "      <th>1</th>\n",
       "      <td>Texas</td>\n",
       "      <td>1652474390</td>\n",
       "      <td>2042022230</td>\n",
       "      <td>3694496620</td>\n",
       "      <td>426849072</td>\n",
       "    </tr>\n",
       "    <tr>\n",
       "      <th>2</th>\n",
       "      <td>Florida</td>\n",
       "      <td>1362133170</td>\n",
       "      <td>1563024670</td>\n",
       "      <td>2925157840</td>\n",
       "      <td>332225768</td>\n",
       "    </tr>\n",
       "    <tr>\n",
       "      <th>3</th>\n",
       "      <td>New York</td>\n",
       "      <td>1385123490</td>\n",
       "      <td>1370196950</td>\n",
       "      <td>2755320440</td>\n",
       "      <td>290049972</td>\n",
       "    </tr>\n",
       "    <tr>\n",
       "      <th>4</th>\n",
       "      <td>Pennsylvania</td>\n",
       "      <td>883190740</td>\n",
       "      <td>1010931390</td>\n",
       "      <td>1894122130</td>\n",
       "      <td>142972034</td>\n",
       "    </tr>\n",
       "    <tr>\n",
       "      <th>5</th>\n",
       "      <td>Illinois</td>\n",
       "      <td>856947010</td>\n",
       "      <td>943475210</td>\n",
       "      <td>1800422220</td>\n",
       "      <td>204931513</td>\n",
       "    </tr>\n",
       "    <tr>\n",
       "      <th>6</th>\n",
       "      <td>Ohio</td>\n",
       "      <td>834393660</td>\n",
       "      <td>915832140</td>\n",
       "      <td>1750225800</td>\n",
       "      <td>143577392</td>\n",
       "    </tr>\n",
       "    <tr>\n",
       "      <th>7</th>\n",
       "      <td>North Carolina</td>\n",
       "      <td>692779120</td>\n",
       "      <td>804369640</td>\n",
       "      <td>1497148760</td>\n",
       "      <td>131931999</td>\n",
       "    </tr>\n",
       "    <tr>\n",
       "      <th>8</th>\n",
       "      <td>Michigan</td>\n",
       "      <td>694556600</td>\n",
       "      <td>774299000</td>\n",
       "      <td>1468855600</td>\n",
       "      <td>111585274</td>\n",
       "    </tr>\n",
       "    <tr>\n",
       "      <th>9</th>\n",
       "      <td>Georgia</td>\n",
       "      <td>685561530</td>\n",
       "      <td>739942650</td>\n",
       "      <td>1425504180</td>\n",
       "      <td>165553411</td>\n",
       "    </tr>\n",
       "  </tbody>\n",
       "</table>\n",
       "</div>"
      ],
      "text/plain": [
       "            state  total_no_spouse    no_child  total_households  \\\n",
       "0      California       2132391030  2736021980        4868413010   \n",
       "1           Texas       1652474390  2042022230        3694496620   \n",
       "2         Florida       1362133170  1563024670        2925157840   \n",
       "3        New York       1385123490  1370196950        2755320440   \n",
       "4    Pennsylvania        883190740  1010931390        1894122130   \n",
       "5        Illinois        856947010   943475210        1800422220   \n",
       "6            Ohio        834393660   915832140        1750225800   \n",
       "7  North Carolina        692779120   804369640        1497148760   \n",
       "8        Michigan        694556600   774299000        1468855600   \n",
       "9         Georgia        685561530   739942650        1425504180   \n",
       "\n",
       "   total_confirmed  \n",
       "0        535221539  \n",
       "1        426849072  \n",
       "2        332225768  \n",
       "3        290049972  \n",
       "4        142972034  \n",
       "5        204931513  \n",
       "6        143577392  \n",
       "7        131931999  \n",
       "8        111585274  \n",
       "9        165553411  "
      ]
     },
     "execution_count": 25,
     "metadata": {},
     "output_type": "execute_result"
    }
   ],
   "source": [
    "%%bigquery\n",
    "select h.state, sum(h.male_no_spouse + h.female_no_spouse) as total_no_spouse, sum(h.married_couple_family + h.cohabiting_couple) as no_child, sum(h.total_households) as total_households, sum(c.confirmed) as total_confirmed\n",
    "from datamart.Households h\n",
    "join datamart.Cases c on c.state = h.state\n",
    "group by h.state\n",
    "order by total_households desc\n",
    "limit 10"
   ]
  },
  {
   "cell_type": "markdown",
   "id": "motivated-sheffield",
   "metadata": {},
   "source": [
    "## Find a relationship between COVID confirmed and/or death cases for each state and the proportion of noninstitutionalized elders with disabilities (65 y/o or above) for each state ordered from the state with the highest proportion of elders with disabilities to the lowest."
   ]
  },
  {
   "cell_type": "code",
   "execution_count": 26,
   "id": "incorporate-transition",
   "metadata": {},
   "outputs": [
    {
     "data": {
      "text/html": [
       "<div>\n",
       "<style scoped>\n",
       "    .dataframe tbody tr th:only-of-type {\n",
       "        vertical-align: middle;\n",
       "    }\n",
       "\n",
       "    .dataframe tbody tr th {\n",
       "        vertical-align: top;\n",
       "    }\n",
       "\n",
       "    .dataframe thead th {\n",
       "        text-align: right;\n",
       "    }\n",
       "</style>\n",
       "<table border=\"1\" class=\"dataframe\">\n",
       "  <thead>\n",
       "    <tr style=\"text-align: right;\">\n",
       "      <th></th>\n",
       "      <th>state</th>\n",
       "      <th>proportion_elders_w_disabilities</th>\n",
       "      <th>deaths</th>\n",
       "      <th>confirmed</th>\n",
       "      <th>avg_testing_rate</th>\n",
       "    </tr>\n",
       "  </thead>\n",
       "  <tbody>\n",
       "    <tr>\n",
       "      <th>0</th>\n",
       "      <td>Puerto Rico</td>\n",
       "      <td>0.102215</td>\n",
       "      <td>2194</td>\n",
       "      <td>120571</td>\n",
       "      <td>8849.075095</td>\n",
       "    </tr>\n",
       "    <tr>\n",
       "      <th>1</th>\n",
       "      <td>West Virginia</td>\n",
       "      <td>0.084526</td>\n",
       "      <td>2777</td>\n",
       "      <td>148071</td>\n",
       "      <td>53718.041639</td>\n",
       "    </tr>\n",
       "    <tr>\n",
       "      <th>2</th>\n",
       "      <td>Arkansas</td>\n",
       "      <td>0.070664</td>\n",
       "      <td>5692</td>\n",
       "      <td>333186</td>\n",
       "      <td>43152.868909</td>\n",
       "    </tr>\n",
       "    <tr>\n",
       "      <th>3</th>\n",
       "      <td>Maine</td>\n",
       "      <td>0.069612</td>\n",
       "      <td>763</td>\n",
       "      <td>56525</td>\n",
       "      <td>51785.146599</td>\n",
       "    </tr>\n",
       "    <tr>\n",
       "      <th>4</th>\n",
       "      <td>Florida</td>\n",
       "      <td>0.067706</td>\n",
       "      <td>34330</td>\n",
       "      <td>2155744</td>\n",
       "      <td>44225.545261</td>\n",
       "    </tr>\n",
       "    <tr>\n",
       "      <th>5</th>\n",
       "      <td>New Mexico</td>\n",
       "      <td>0.067615</td>\n",
       "      <td>4001</td>\n",
       "      <td>194868</td>\n",
       "      <td>61299.580968</td>\n",
       "    </tr>\n",
       "    <tr>\n",
       "      <th>6</th>\n",
       "      <td>Mississippi</td>\n",
       "      <td>0.066701</td>\n",
       "      <td>7139</td>\n",
       "      <td>308737</td>\n",
       "      <td>30065.461635</td>\n",
       "    </tr>\n",
       "    <tr>\n",
       "      <th>7</th>\n",
       "      <td>Alabama</td>\n",
       "      <td>0.066345</td>\n",
       "      <td>10739</td>\n",
       "      <td>521623</td>\n",
       "      <td>25480.102988</td>\n",
       "    </tr>\n",
       "    <tr>\n",
       "      <th>8</th>\n",
       "      <td>Kentucky</td>\n",
       "      <td>0.065577</td>\n",
       "      <td>6317</td>\n",
       "      <td>436445</td>\n",
       "      <td>42104.372385</td>\n",
       "    </tr>\n",
       "    <tr>\n",
       "      <th>9</th>\n",
       "      <td>Hawaii</td>\n",
       "      <td>0.065472</td>\n",
       "      <td>474</td>\n",
       "      <td>32548</td>\n",
       "      <td>36024.221704</td>\n",
       "    </tr>\n",
       "  </tbody>\n",
       "</table>\n",
       "</div>"
      ],
      "text/plain": [
       "           state  proportion_elders_w_disabilities  deaths  confirmed  \\\n",
       "0    Puerto Rico                          0.102215    2194     120571   \n",
       "1  West Virginia                          0.084526    2777     148071   \n",
       "2       Arkansas                          0.070664    5692     333186   \n",
       "3          Maine                          0.069612     763      56525   \n",
       "4        Florida                          0.067706   34330    2155744   \n",
       "5     New Mexico                          0.067615    4001     194868   \n",
       "6    Mississippi                          0.066701    7139     308737   \n",
       "7        Alabama                          0.066345   10739     521623   \n",
       "8       Kentucky                          0.065577    6317     436445   \n",
       "9         Hawaii                          0.065472     474      32548   \n",
       "\n",
       "   avg_testing_rate  \n",
       "0       8849.075095  \n",
       "1      53718.041639  \n",
       "2      43152.868909  \n",
       "3      51785.146599  \n",
       "4      44225.545261  \n",
       "5      61299.580968  \n",
       "6      30065.461635  \n",
       "7      25480.102988  \n",
       "8      42104.372385  \n",
       "9      36024.221704  "
      ]
     },
     "execution_count": 26,
     "metadata": {},
     "output_type": "execute_result"
    }
   ],
   "source": [
    "%%bigquery\n",
    "select c.state, sum(d.noninstitutionalized_65over_with_disability)/sum(d.noninstitutionalized) as proportion_elders_w_disabilities, max(c.deaths) as deaths, max(c.confirmed) as confirmed, avg(c.testing_rate) as avg_testing_rate\n",
    "from datamart.Disability d\n",
    "join datamart.Cases c on c.state = d.state\n",
    "group by c.state\n",
    "order by proportion_elders_w_disabilities desc\n",
    "limit 10"
   ]
  },
  {
   "cell_type": "markdown",
   "id": "looking-digit",
   "metadata": {},
   "source": [
    "## Create a new BQ dataset for storing your reporting views. Name the dataset reports."
   ]
  },
  {
   "cell_type": "code",
   "execution_count": 27,
   "id": "stretch-integer",
   "metadata": {},
   "outputs": [],
   "source": [
    "dataset_id2 = \"reports\""
   ]
  },
  {
   "cell_type": "code",
   "execution_count": 28,
   "id": "crucial-pharmacy",
   "metadata": {},
   "outputs": [
    {
     "name": "stdout",
     "output_type": "stream",
     "text": [
      "Dataset 'still-primer-302701:reports' successfully created.\n"
     ]
    }
   ],
   "source": [
    "!bq --location=US mk --dataset {dataset_id2}"
   ]
  },
  {
   "cell_type": "markdown",
   "id": "satisfactory-clinic",
   "metadata": {},
   "source": [
    "### Import datasets for the views to be created from the two chosen queries"
   ]
  },
  {
   "cell_type": "code",
   "execution_count": 29,
   "id": "animated-overall",
   "metadata": {},
   "outputs": [
    {
     "data": {
      "text/html": [
       "<div>\n",
       "<style scoped>\n",
       "    .dataframe tbody tr th:only-of-type {\n",
       "        vertical-align: middle;\n",
       "    }\n",
       "\n",
       "    .dataframe tbody tr th {\n",
       "        vertical-align: top;\n",
       "    }\n",
       "\n",
       "    .dataframe thead th {\n",
       "        text-align: right;\n",
       "    }\n",
       "</style>\n",
       "<table border=\"1\" class=\"dataframe\">\n",
       "  <thead>\n",
       "    <tr style=\"text-align: right;\">\n",
       "      <th></th>\n",
       "    </tr>\n",
       "  </thead>\n",
       "  <tbody>\n",
       "  </tbody>\n",
       "</table>\n",
       "</div>"
      ],
      "text/plain": [
       "Empty DataFrame\n",
       "Columns: []\n",
       "Index: []"
      ]
     },
     "execution_count": 29,
     "metadata": {},
     "output_type": "execute_result"
    }
   ],
   "source": [
    "%%bigquery\n",
    "CREATE TABLE reports.Cases AS\n",
    "SELECT Province_State as state, \n",
    "CAST(Last_Update as DATE) as last_Update, \n",
    "Total_Test_Results as total_test_results, \n",
    "Confirmed as confirmed, Deaths as deaths, \n",
    "Recovered as recovered, Active as active, \n",
    "Case_Fatality_Ratio as case_fatality_ratio, \n",
    "Testing_Rate as testing_rate \n",
    "FROM fda_staging.US_COVID_Cases;"
   ]
  },
  {
   "cell_type": "code",
   "execution_count": 30,
   "id": "abandoned-federation",
   "metadata": {},
   "outputs": [
    {
     "data": {
      "text/html": [
       "<div>\n",
       "<style scoped>\n",
       "    .dataframe tbody tr th:only-of-type {\n",
       "        vertical-align: middle;\n",
       "    }\n",
       "\n",
       "    .dataframe tbody tr th {\n",
       "        vertical-align: top;\n",
       "    }\n",
       "\n",
       "    .dataframe thead th {\n",
       "        text-align: right;\n",
       "    }\n",
       "</style>\n",
       "<table border=\"1\" class=\"dataframe\">\n",
       "  <thead>\n",
       "    <tr style=\"text-align: right;\">\n",
       "      <th></th>\n",
       "    </tr>\n",
       "  </thead>\n",
       "  <tbody>\n",
       "  </tbody>\n",
       "</table>\n",
       "</div>"
      ],
      "text/plain": [
       "Empty DataFrame\n",
       "Columns: []\n",
       "Index: []"
      ]
     },
     "execution_count": 30,
     "metadata": {},
     "output_type": "execute_result"
    }
   ],
   "source": [
    "%%bigquery\n",
    "CREATE TABLE reports.Education AS \n",
    "SELECT DISTINCT Geographic_Area_Name as state, \n",
    "Estimate__SCHOOL_ENROLLMENT__Population_3_years_and_over_enrolled_in_school as over_3yo_enrolled, \n",
    "Estimate__SCHOOL_ENROLLMENT__Population_3_years_and_over_enrolled_in_school__High_school__grades_9_12_ as over_3yo_in_HS,\n",
    "Estimate__SCHOOL_ENROLLMENT__Population_3_years_and_over_enrolled_in_school__College_or_graduate_school as over_3yo_in_college_or_grad,\n",
    "Estimate__EDUCATIONAL_ATTAINMENT__Population_25_years_and_over as over_25yo,\n",
    "Estimate__EDUCATIONAL_ATTAINMENT__Population_25_years_and_over__High_school_graduate__includes_equivalency_ as over_25yo_HS_grad,\n",
    "Estimate__EDUCATIONAL_ATTAINMENT__Population_25_years_and_over__Some_college__no_degree as over_25yo_no_degree,\n",
    "Estimate__EDUCATIONAL_ATTAINMENT__Population_25_years_and_over__Bachelor_s_degree as over_25yo_bachelors, \n",
    "Estimate__EDUCATIONAL_ATTAINMENT__Population_25_years_and_over__Graduate_or_professional_degree as over_25yo_prof, \n",
    "Estimate__EDUCATIONAL_ATTAINMENT__Population_25_years_and_over__High_school_graduate_or_higher as over_25yo_HS_or_higher\n",
    "FROM uscb_staging.Social_Characteristics;"
   ]
  },
  {
   "cell_type": "code",
   "execution_count": 31,
   "id": "adapted-provision",
   "metadata": {},
   "outputs": [
    {
     "data": {
      "text/html": [
       "<div>\n",
       "<style scoped>\n",
       "    .dataframe tbody tr th:only-of-type {\n",
       "        vertical-align: middle;\n",
       "    }\n",
       "\n",
       "    .dataframe tbody tr th {\n",
       "        vertical-align: top;\n",
       "    }\n",
       "\n",
       "    .dataframe thead th {\n",
       "        text-align: right;\n",
       "    }\n",
       "</style>\n",
       "<table border=\"1\" class=\"dataframe\">\n",
       "  <thead>\n",
       "    <tr style=\"text-align: right;\">\n",
       "      <th></th>\n",
       "    </tr>\n",
       "  </thead>\n",
       "  <tbody>\n",
       "  </tbody>\n",
       "</table>\n",
       "</div>"
      ],
      "text/plain": [
       "Empty DataFrame\n",
       "Columns: []\n",
       "Index: []"
      ]
     },
     "execution_count": 31,
     "metadata": {},
     "output_type": "execute_result"
    }
   ],
   "source": [
    "%%bigquery\n",
    "CREATE TABLE reports.Disability AS\n",
    "SELECT DISTINCT Geographic_Area_Name as state,\n",
    "Estimate__DISABILITY_STATUS_OF_THE_CIVILIAN_NONINSTITUTIONALIZED_POPULATION__Total_Civilian_Noninstitutionalized_Population as noninstitutionalized,\n",
    "Estimate__DISABILITY_STATUS_OF_THE_CIVILIAN_NONINSTITUTIONALIZED_POPULATION__Total_Civilian_Noninstitutionalized_Population__With_a_disability as noninstitutionalized_with_disability, \n",
    "Estimate__DISABILITY_STATUS_OF_THE_CIVILIAN_NONINSTITUTIONALIZED_POPULATION__65_years_and_over as noninstitutionalized_65over,\n",
    "Estimate__DISABILITY_STATUS_OF_THE_CIVILIAN_NONINSTITUTIONALIZED_POPULATION__65_years_and_over__With_a_disability as noninstitutionalized_65over_with_disability\n",
    "from uscb_staging.Social_Characteristics; "
   ]
  },
  {
   "cell_type": "markdown",
   "id": "immune-intermediate",
   "metadata": {},
   "source": [
    "## Choose 2 of your most interesting queries from the previous section. Create a view for each query in the reports dataset and assign the view a descriptive name (e.g. Highest_Nominated_Movies)."
   ]
  },
  {
   "cell_type": "code",
   "execution_count": 32,
   "id": "refined-silver",
   "metadata": {},
   "outputs": [
    {
     "data": {
      "text/html": [
       "<div>\n",
       "<style scoped>\n",
       "    .dataframe tbody tr th:only-of-type {\n",
       "        vertical-align: middle;\n",
       "    }\n",
       "\n",
       "    .dataframe tbody tr th {\n",
       "        vertical-align: top;\n",
       "    }\n",
       "\n",
       "    .dataframe thead th {\n",
       "        text-align: right;\n",
       "    }\n",
       "</style>\n",
       "<table border=\"1\" class=\"dataframe\">\n",
       "  <thead>\n",
       "    <tr style=\"text-align: right;\">\n",
       "      <th></th>\n",
       "    </tr>\n",
       "  </thead>\n",
       "  <tbody>\n",
       "  </tbody>\n",
       "</table>\n",
       "</div>"
      ],
      "text/plain": [
       "Empty DataFrame\n",
       "Columns: []\n",
       "Index: []"
      ]
     },
     "execution_count": 32,
     "metadata": {},
     "output_type": "execute_result"
    }
   ],
   "source": [
    "%%bigquery\n",
    "CREATE VIEW reports.Higher_Degree_Proportion_and_COVID_Deaths AS\n",
    "select c2.state, c2.deaths, e.over_25yo_prof/e.over_25yo_HS_or_higher as higher_degree_proportion\n",
    "from (select c.state, max(c.deaths) as deaths from reports.Cases c group by c.state) c2\n",
    "join reports.Education e on c2.state = e.state\n",
    "order by higher_degree_proportion desc\n",
    "limit 20"
   ]
  },
  {
   "cell_type": "code",
   "execution_count": 33,
   "id": "liked-harrison",
   "metadata": {},
   "outputs": [
    {
     "data": {
      "text/html": [
       "<div>\n",
       "<style scoped>\n",
       "    .dataframe tbody tr th:only-of-type {\n",
       "        vertical-align: middle;\n",
       "    }\n",
       "\n",
       "    .dataframe tbody tr th {\n",
       "        vertical-align: top;\n",
       "    }\n",
       "\n",
       "    .dataframe thead th {\n",
       "        text-align: right;\n",
       "    }\n",
       "</style>\n",
       "<table border=\"1\" class=\"dataframe\">\n",
       "  <thead>\n",
       "    <tr style=\"text-align: right;\">\n",
       "      <th></th>\n",
       "    </tr>\n",
       "  </thead>\n",
       "  <tbody>\n",
       "  </tbody>\n",
       "</table>\n",
       "</div>"
      ],
      "text/plain": [
       "Empty DataFrame\n",
       "Columns: []\n",
       "Index: []"
      ]
     },
     "execution_count": 33,
     "metadata": {},
     "output_type": "execute_result"
    }
   ],
   "source": [
    "%%bigquery\n",
    "CREATE VIEW reports.Highest_Proportion_of_Elders_with_Disability_Against_COVID_Deaths_by_State AS\n",
    "select c.state, sum(d.noninstitutionalized_65over_with_disability)/sum(d.noninstitutionalized) as proportion_elders_w_disabilities, max(c.deaths) as deaths, max(c.confirmed) as confirmed, avg(c.testing_rate) as avg_testing_rate\n",
    "from reports.Disability d\n",
    "join reports.Cases c on c.state = d.state\n",
    "group by c.state\n",
    "order by proportion_elders_w_disabilities desc\n",
    "limit 20"
   ]
  }
 ],
 "metadata": {
  "environment": {
   "name": "common-cpu.mnightly-2021-02-12-debian-10-test",
   "type": "gcloud",
   "uri": "gcr.io/deeplearning-platform-release/base-cpu:mnightly-2021-02-12-debian-10-test"
  },
  "kernelspec": {
   "display_name": "Python 3",
   "language": "python",
   "name": "python3"
  },
  "language_info": {
   "codemirror_mode": {
    "name": "ipython",
    "version": 3
   },
   "file_extension": ".py",
   "mimetype": "text/x-python",
   "name": "python",
   "nbconvert_exporter": "python",
   "pygments_lexer": "ipython3",
   "version": "3.7.9"
  }
 },
 "nbformat": 4,
 "nbformat_minor": 5
}
